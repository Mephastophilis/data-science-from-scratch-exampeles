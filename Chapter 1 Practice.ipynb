{
 "cells": [
  {
   "cell_type": "markdown",
   "metadata": {},
   "source": [
    "# Data Science Introduction Chapter 1:"
   ]
  },
  {
   "cell_type": "code",
   "execution_count": 52,
   "metadata": {},
   "outputs": [],
   "source": [
    "users = [{\"id\":0,\"name\":\"Hero\"},{\"id\":1,\"name\":\"Dunn\"},{\"id\":2,\"name\":\"Sue\"},{\"id\":3,\"name\":\"Chi\"},{\"id\":4,\"name\":\"Thor\"},{\"id\":5,\"name\":\"Clive\"},{\"id\":6,\"name\":\"Hicks\"},{\"id\":7,\"name\":\"Devin\"},{\"id\":8,\"name\":\"Kate\"},{\"id\":9,\"name\":\"Klein\"}]"
   ]
  },
  {
   "cell_type": "code",
   "execution_count": 54,
   "metadata": {},
   "outputs": [
    {
     "name": "stdout",
     "output_type": "stream",
     "text": [
      "0 Hero\n",
      "1 Dunn\n",
      "2 Sue\n",
      "3 Chi\n",
      "4 Thor\n",
      "5 Clive\n",
      "6 Hicks\n",
      "7 Devin\n",
      "8 Kate\n",
      "9 Klein\n"
     ]
    }
   ],
   "source": [
    "for user in users:\n",
    "    print user[\"id\"], user[\"name\"]"
   ]
  },
  {
   "cell_type": "code",
   "execution_count": 61,
   "metadata": {},
   "outputs": [],
   "source": [
    "friendships = [(0,1), (0,2), (1,2), (1,3), (2,3), (3,4), (4,5), (5,6), (5,7), (6,8), (7,8), (8,9)]"
   ]
  },
  {
   "cell_type": "code",
   "execution_count": 88,
   "metadata": {},
   "outputs": [],
   "source": [
    "for user in users:\n",
    "    user[\"friends\"] = []"
   ]
  },
  {
   "cell_type": "code",
   "execution_count": 90,
   "metadata": {},
   "outputs": [],
   "source": [
    "for i, j in friendships:\n",
    "    users[i][\"friends\"].append(users[j].get(\"name\"))\n",
    "    users[j][\"friends\"].append(users[i].get(\"name\"))"
   ]
  },
  {
   "cell_type": "code",
   "execution_count": 91,
   "metadata": {},
   "outputs": [
    {
     "name": "stdout",
     "output_type": "stream",
     "text": [
      "['Dunn', 'Sue']\n",
      "['Hero', 'Sue', 'Chi']\n",
      "['Hero', 'Dunn', 'Chi']\n",
      "['Dunn', 'Sue', 'Thor']\n",
      "['Chi', 'Clive']\n",
      "['Thor', 'Hicks', 'Devin']\n",
      "['Clive', 'Kate']\n",
      "['Clive', 'Kate']\n",
      "['Hicks', 'Devin', 'Klein']\n",
      "['Kate']\n"
     ]
    }
   ],
   "source": [
    "for x in users:\n",
    "    print x[\"friends\"]"
   ]
  },
  {
   "cell_type": "code",
   "execution_count": 92,
   "metadata": {},
   "outputs": [
    {
     "name": "stdout",
     "output_type": "stream",
     "text": [
      "['Kate']\n"
     ]
    }
   ],
   "source": [
    "print x[\"friends\"]"
   ]
  },
  {
   "cell_type": "code",
   "execution_count": 93,
   "metadata": {},
   "outputs": [],
   "source": [
    "def number_of_friends(user):\n",
    "    return len(user[\"friends\"])"
   ]
  },
  {
   "cell_type": "code",
   "execution_count": 94,
   "metadata": {},
   "outputs": [
    {
     "data": {
      "text/plain": [
       "3"
      ]
     },
     "execution_count": 94,
     "metadata": {},
     "output_type": "execute_result"
    }
   ],
   "source": [
    "number_of_friends(users[1])"
   ]
  },
  {
   "cell_type": "code",
   "execution_count": 97,
   "metadata": {},
   "outputs": [
    {
     "name": "stdout",
     "output_type": "stream",
     "text": [
      "['Dunn', 'Sue']\n",
      "['Hero', 'Sue', 'Chi']\n",
      "['Hero', 'Dunn', 'Chi']\n",
      "['Dunn', 'Sue', 'Thor']\n",
      "['Chi', 'Clive']\n",
      "['Thor', 'Hicks', 'Devin']\n",
      "['Clive', 'Kate']\n",
      "['Clive', 'Kate']\n",
      "['Hicks', 'Devin', 'Klein']\n",
      "['Kate']\n"
     ]
    }
   ],
   "source": [
    "for user in users:\n",
    "    print user.get(\"friends\")"
   ]
  },
  {
   "cell_type": "code",
   "execution_count": 100,
   "metadata": {},
   "outputs": [
    {
     "name": "stdout",
     "output_type": "stream",
     "text": [
      "24\n"
     ]
    }
   ],
   "source": [
    "total_connections = sum(number_of_friends(user) for user in users)\n",
    "print total_connections"
   ]
  },
  {
   "cell_type": "code",
   "execution_count": 101,
   "metadata": {},
   "outputs": [],
   "source": [
    "from __future__ import division"
   ]
  },
  {
   "cell_type": "code",
   "execution_count": 103,
   "metadata": {},
   "outputs": [
    {
     "name": "stdout",
     "output_type": "stream",
     "text": [
      "2.4\n"
     ]
    }
   ],
   "source": [
    "avg_connections = total_connections / len(users)\n",
    "print avg_connections"
   ]
  },
  {
   "cell_type": "code",
   "execution_count": 114,
   "metadata": {},
   "outputs": [],
   "source": [
    "num_friends_by_id = [(user[\"id\"], user[\"name\"], number_of_friends(user)) for user in users]"
   ]
  },
  {
   "cell_type": "code",
   "execution_count": 115,
   "metadata": {},
   "outputs": [
    {
     "data": {
      "text/plain": [
       "[(1, 'Dunn', 3),\n",
       " (2, 'Sue', 3),\n",
       " (3, 'Chi', 3),\n",
       " (5, 'Clive', 3),\n",
       " (8, 'Kate', 3),\n",
       " (0, 'Hero', 2),\n",
       " (4, 'Thor', 2),\n",
       " (6, 'Hicks', 2),\n",
       " (7, 'Devin', 2),\n",
       " (9, 'Klein', 1)]"
      ]
     },
     "execution_count": 115,
     "metadata": {},
     "output_type": "execute_result"
    }
   ],
   "source": [
    "sorted(num_friends_by_id, key=lambda (user_id, name, num_of_friends): num_of_friends, reverse=True)"
   ]
  },
  {
   "cell_type": "code",
   "execution_count": null,
   "metadata": {},
   "outputs": [],
   "source": []
  }
 ],
 "metadata": {
  "kernelspec": {
   "display_name": "Python 2",
   "language": "python",
   "name": "python2"
  },
  "language_info": {
   "codemirror_mode": {
    "name": "ipython",
    "version": 2
   },
   "file_extension": ".py",
   "mimetype": "text/x-python",
   "name": "python",
   "nbconvert_exporter": "python",
   "pygments_lexer": "ipython2",
   "version": "2.7.14"
  }
 },
 "nbformat": 4,
 "nbformat_minor": 2
}
